{
  "nbformat": 4,
  "nbformat_minor": 0,
  "metadata": {
    "colab": {
      "private_outputs": true,
      "provenance": []
    },
    "kernelspec": {
      "name": "python3",
      "display_name": "Python 3"
    },
    "language_info": {
      "name": "python"
    },
    "gpuClass": "standard"
  },
  "cells": [
    {
      "cell_type": "markdown",
      "source": [
        "### Imports"
      ],
      "metadata": {
        "id": "XW8dB_7HSTDK"
      }
    },
    {
      "cell_type": "code",
      "source": [
        "#!pip install pycaret\n",
        "!pip install datacleaner"
      ],
      "metadata": {
        "id": "rEHLkzskSKOi"
      },
      "execution_count": null,
      "outputs": []
    },
    {
      "cell_type": "code",
      "source": [
        "import pandas as pd\n",
        "pd.set_option('display.max_columns', 1000)\n",
        "#import pycaret\n",
        "import plotly.express as px\n",
        "import seaborn as sns\n",
        "import matplotlib.pyplot as plt\n",
        "from datacleaner import autoclean\n",
        "from sklearn.preprocessing import StandardScaler\n",
        "from sklearn.preprocessing import LabelEncoder\n",
        "from sklearn import preprocessing\n",
        "from google.colab import drive\n",
        "drive.mount('/content/drive')"
      ],
      "metadata": {
        "id": "qHLq_ZqhR2aC"
      },
      "execution_count": null,
      "outputs": []
    },
    {
      "cell_type": "markdown",
      "source": [
        "\n",
        "### Loading data"
      ],
      "metadata": {
        "id": "pciNYXKPSWp5"
      }
    },
    {
      "cell_type": "code",
      "execution_count": null,
      "metadata": {
        "id": "LgbMm7VvRYTN"
      },
      "outputs": [],
      "source": [
        "#df_train= pd.read_csv('/content/drive/MyDrive/hackapucsp2023-enem/train.csv')\n",
        "df_train= pd.read_csv('/content/drive/MyDrive/Data Science/hackathon/hackapucsp2023-enem/train.csv')"
      ]
    },
    {
      "cell_type": "code",
      "source": [],
      "metadata": {
        "id": "nqb0L98ceyiG"
      },
      "execution_count": null,
      "outputs": []
    },
    {
      "cell_type": "code",
      "source": [
        "#df_test= pd.read_csv('/content/drive/MyDrive/test.csv')\n",
        "df_test= pd.read_csv('/content/drive/MyDrive/Data Science/hackathon/hackapucsp2023-enem/test.csv')"
      ],
      "metadata": {
        "id": "oVIi0-oKSdWp"
      },
      "execution_count": null,
      "outputs": []
    },
    {
      "cell_type": "markdown",
      "source": [
        "\n",
        "\n",
        "###Análise Exploratória"
      ],
      "metadata": {
        "id": "qC0_hFZ731am"
      }
    },
    {
      "cell_type": "code",
      "source": [
        "df_train.columns"
      ],
      "metadata": {
        "id": "8lR6b9f2Sf7p"
      },
      "execution_count": null,
      "outputs": []
    },
    {
      "cell_type": "code",
      "source": [
        "df_train['SG_UF_ESC'].value_counts()"
      ],
      "metadata": {
        "id": "jWKW1RDjStGK"
      },
      "execution_count": null,
      "outputs": []
    },
    {
      "cell_type": "code",
      "source": [
        "df_train[df_train['NU_NOTA_REDACAO']>=900]['MF'].mean()"
      ],
      "metadata": {
        "id": "LN8V2vN3-rDo"
      },
      "execution_count": null,
      "outputs": []
    },
    {
      "cell_type": "code",
      "source": [],
      "metadata": {
        "id": "tA5NTRVbORBu"
      },
      "execution_count": null,
      "outputs": []
    },
    {
      "cell_type": "code",
      "source": [
        "def piechart(x):\n",
        "  fig = px.pie(x, values=x['SG_UF_ESC'].value_counts(), names=x['SG_UF_ESC'].value_counts().index, title='distribuição por estado')\n",
        "  fig.show()"
      ],
      "metadata": {
        "id": "v41XPL5JZV74"
      },
      "execution_count": null,
      "outputs": []
    },
    {
      "cell_type": "code",
      "source": [
        "ricos = df_train[df_train['Q006']=='Q']#aqui selecionei as pessoas cuja renda familiar é superior a R$22.000,00\n",
        "pobres = df_train[(df_train['Q006']=='B') | (df_train['Q006']=='A')]#aqui estou selecionando apenas as pessoas que responderam que a renda familiar é igual ou inferior a R$1.100,00\n"
      ],
      "metadata": {
        "id": "uj3JWTq2UVNp"
      },
      "execution_count": null,
      "outputs": []
    },
    {
      "cell_type": "code",
      "source": [
        "piechart(ricos)"
      ],
      "metadata": {
        "id": "k4Ep7B_gcVRV"
      },
      "execution_count": null,
      "outputs": []
    },
    {
      "cell_type": "code",
      "source": [
        "piechart(pobres)"
      ],
      "metadata": {
        "id": "k36DcfgScd_F"
      },
      "execution_count": null,
      "outputs": []
    },
    {
      "cell_type": "code",
      "source": [
        "fig = px.bar(df_train, x=df_train['SG_UF_ESC'].value_counts().index, y=df_train['SG_UF_ESC'].value_counts(), color= df_train['SG_UF_ESC'].value_counts().index)\n",
        "fig.show()"
      ],
      "metadata": {
        "id": "ZlWbnomQc7HF"
      },
      "execution_count": null,
      "outputs": []
    },
    {
      "cell_type": "markdown",
      "source": [
        "#### Diferença de médias entre pobres e ricos\n"
      ],
      "metadata": {
        "id": "4fU9KOQEn50j"
      }
    },
    {
      "cell_type": "code",
      "source": [
        "pobres['MF'].mean()"
      ],
      "metadata": {
        "id": "pVP55OX_UgSo"
      },
      "execution_count": null,
      "outputs": []
    },
    {
      "cell_type": "code",
      "source": [
        "ricos['MF'].mean()"
      ],
      "metadata": {
        "id": "eoyZrlhdYDtQ"
      },
      "execution_count": null,
      "outputs": []
    },
    {
      "cell_type": "code",
      "source": [
        "def bargraph(df, xlabel, ylabel):\n",
        "  fig = px.bar(x=df.keys(), y=df.values(), color= df.keys(), labels={'x':xlabel, 'y': ylabel})\n",
        "  fig.show()"
      ],
      "metadata": {
        "id": "OqzGRDxGfVRF"
      },
      "execution_count": null,
      "outputs": []
    },
    {
      "cell_type": "code",
      "source": [],
      "metadata": {
        "id": "PdZT4-FRJA9o"
      },
      "execution_count": null,
      "outputs": []
    },
    {
      "cell_type": "code",
      "source": [
        "#pegando a media de cada estado\n",
        "medias_estado = {}\n",
        "lista_de_estados= df_train['SG_UF_ESC'].unique()\n",
        "for i in lista_de_estados:\n",
        "  media = df_train[df_train['SG_UF_ESC']==i]['MF'].mean()\n",
        "  medias_estado[i]=media"
      ],
      "metadata": {
        "id": "XHE9VLzoe19t"
      },
      "execution_count": null,
      "outputs": []
    },
    {
      "cell_type": "code",
      "source": [
        "medias =sorted(medias_estado.items(), key=lambda x:x[1])"
      ],
      "metadata": {
        "id": "nVoC00Lxf_sl"
      },
      "execution_count": null,
      "outputs": []
    },
    {
      "cell_type": "code",
      "source": [
        "medias = dict(medias)"
      ],
      "metadata": {
        "id": "unO3GAxjn2Wa"
      },
      "execution_count": null,
      "outputs": []
    },
    {
      "cell_type": "code",
      "source": [
        "def bargraph(df, xlabel, ylabel):\n",
        "  fig = px.bar(x=df.keys(), y=df.values(), color= df.keys(), labels={'x':xlabel, 'y': ylabel})\n",
        "  fig.update_layout({\n",
        "'plot_bgcolor': 'rgba(0, 0, 0, 0)',\n",
        "'paper_bgcolor': 'rgba(0, 0, 0, 0)',\n",
        "})\n",
        "  fig.show()"
      ],
      "metadata": {
        "id": "QiphVkfWJBKn"
      },
      "execution_count": null,
      "outputs": []
    },
    {
      "cell_type": "code",
      "source": [
        "bargraph(medias, 'ESTADOS','NOTA ENEM')"
      ],
      "metadata": {
        "id": "V85YaBkPMRQS"
      },
      "execution_count": null,
      "outputs": []
    },
    {
      "cell_type": "markdown",
      "source": [
        "#### Nota de matemática pela renda"
      ],
      "metadata": {
        "id": "2hzWkU1pPbAV"
      }
    },
    {
      "cell_type": "code",
      "source": [
        "import seaborn as sns\n",
        "import matplotlib.pyplot as plt\n",
        "\n",
        "plt.figure(figsize=(10, 8))\n",
        "sns.boxplot(x=\"Q006\", y = \"MF\", data = df_train)\n",
        "plt.title(\"Boxplot das notas pela renda\")"
      ],
      "metadata": {
        "id": "mHi4vGcHF0JQ"
      },
      "execution_count": null,
      "outputs": []
    },
    {
      "cell_type": "code",
      "source": [
        "df_train"
      ],
      "metadata": {
        "id": "d6WYd92IGM3I"
      },
      "execution_count": null,
      "outputs": []
    },
    {
      "cell_type": "code",
      "source": [
        "import seaborn as sns\n",
        "import matplotlib.pyplot as plt\n",
        "\n",
        "plt.figure(figsize=(10, 8))\n",
        "sns.lineplot(x=\"Renda per capita\", y = \"MF\", data = df_train)\n",
        "plt.title(\"Média final pela renda\")\n",
        "plt.savefig('media.png')"
      ],
      "metadata": {
        "id": "R7Ijn4fOPZlA"
      },
      "execution_count": null,
      "outputs": []
    },
    {
      "cell_type": "markdown",
      "source": [
        "#### Quantidade de pessoas que não possuem internet em casa"
      ],
      "metadata": {
        "id": "EBO51fv9C9iN"
      }
    },
    {
      "cell_type": "code",
      "source": [
        "df_train['Q025'].value_counts()"
      ],
      "metadata": {
        "id": "-mB27oskCMZh"
      },
      "execution_count": null,
      "outputs": []
    },
    {
      "cell_type": "markdown",
      "source": [
        "DIFERENÇA DAS MEDIAS ENTRE QUEM NÃO TEM INTERNET "
      ],
      "metadata": {
        "id": "GjSZkG5fDDU2"
      }
    },
    {
      "cell_type": "code",
      "source": [
        "media_sem_internet = df_train[df_train['Q025']=='A']['MF'].mean() # Sem internet\n",
        "\n",
        "media_com_internet = df_train[df_train['Q025']=='B']['MF'].mean() # Com internet\n",
        "\n",
        "diferenca_medias_internet = media_com_internet - media_sem_internet\n",
        "\n",
        "diferenca_medias_internet"
      ],
      "metadata": {
        "id": "QEoxL5GhCURA"
      },
      "execution_count": null,
      "outputs": []
    },
    {
      "cell_type": "code",
      "source": [
        "def media_coluna(coluna_aspas_duplas):  #Function para retornar média final das notas por determinada feature\n",
        "  hashmap = {}\n",
        "  valores_contados = df_train[coluna_aspas_duplas].value_counts()\n",
        "  for i in valores_contados.index:\n",
        "    nota = df_train[df_train[coluna_aspas_duplas] == i]['MF'].mean()\n",
        "    hashmap[i] = nota\n",
        "  return(sorted(hashmap.items(), key=lambda x:x[1]))"
      ],
      "metadata": {
        "id": "5QQomJgrDcjm"
      },
      "execution_count": null,
      "outputs": []
    },
    {
      "cell_type": "markdown",
      "source": [
        "#### Quantidade de banheiros"
      ],
      "metadata": {
        "id": "nL2wDuZMDQBU"
      }
    },
    {
      "cell_type": "code",
      "source": [
        "media_coluna(\"Q008\") # Coluna quantidade de banheiros na casa do candidato"
      ],
      "metadata": {
        "id": "wZBm6Vb2DmZd"
      },
      "execution_count": null,
      "outputs": []
    },
    {
      "cell_type": "code",
      "source": [
        "media_coluna(\"Q003\") # Profissão do pai"
      ],
      "metadata": {
        "id": "LRuXhmhZEoKb"
      },
      "execution_count": null,
      "outputs": []
    },
    {
      "cell_type": "markdown",
      "source": [
        "#### Escolaridade pai / mãe"
      ],
      "metadata": {
        "id": "CQz25-M6t7jy"
      }
    },
    {
      "cell_type": "code",
      "source": [
        "media_coluna(\"Q001\") # Escolaridade pai "
      ],
      "metadata": {
        "id": "qihoHQvrt-_s"
      },
      "execution_count": null,
      "outputs": []
    },
    {
      "cell_type": "code",
      "source": [
        "media_coluna(\"Q002\") # Escolaridade mãe"
      ],
      "metadata": {
        "id": "rES_MimEuWXw"
      },
      "execution_count": null,
      "outputs": []
    },
    {
      "cell_type": "markdown",
      "source": [
        "#### Pessoas por residência\n"
      ],
      "metadata": {
        "id": "bUtLBqnvJpqv"
      }
    },
    {
      "cell_type": "code",
      "source": [
        "pessoas_por_residencia = media_coluna(\"Q005\")\n",
        "pessoas_por_residencia = dict(pessoas_por_residencia)\n",
        "bargraph(pessoas_por_residencia, 'estados', 'nota enem')"
      ],
      "metadata": {
        "id": "eoxcVnc3Jctl"
      },
      "execution_count": null,
      "outputs": []
    },
    {
      "cell_type": "code",
      "source": [
        "color = \"#2E3037\"\n",
        "background_color = \"Dark\"\n",
        "score_targets = [\"NU_NOTA_CN\", \"NU_NOTA_CH\", \"NU_NOTA_LC\", \"NU_NOTA_MT\", \"NU_NOTA_REDACAO\"]\n",
        "names = [\"Ciências da Natureza\", \"Ciências Humanas\", \"Linguagens\", \"Matemática\", \"Redação\"]\n",
        "if background_color == \"White\":\n",
        "    plt.style.use(\"default\")\n",
        "    plt.figure(figsize=(15, 8))\n",
        "\n",
        "else:\n",
        "    plt.style.use('dark_background')\n",
        "    plt.figure(figsize=(15, 8), facecolor=color)\n",
        "    ax = plt.gca()\n",
        "    ax.set_facecolor(color)\n",
        "\n",
        "for i, col in enumerate(score_targets):\n",
        "        sns.distplot(df_train[col], hist = False, kde = True,\n",
        "                     kde_kws = {'shade': True, 'linewidth': 2}, \n",
        "                      label = names[i])\n",
        "\n",
        "plt.legend(names)\n",
        "plt.xlabel(\"Nota\")\n",
        "plt.ylabel(\"Densidade\")\n",
        "plt.savefig(\"Densidade_notas_por_disciplina.png\")"
      ],
      "metadata": {
        "id": "-xZgtvvGEjL6"
      },
      "execution_count": null,
      "outputs": []
    },
    {
      "cell_type": "markdown",
      "source": [
        "#### Divisão de renda\n",
        "\n",
        "\n",
        "\n"
      ],
      "metadata": {
        "id": "GCeK3u65EvSo"
      }
    },
    {
      "cell_type": "code",
      "source": [
        "renda_familiar = media_coluna(\"Q006\") # Média por renda familiar"
      ],
      "metadata": {
        "id": "lUsLU9sZHVUZ"
      },
      "execution_count": null,
      "outputs": []
    },
    {
      "cell_type": "markdown",
      "source": [
        "### Separando os dados em features e target"
      ],
      "metadata": {
        "id": "GrtqAZ1aWVZc"
      }
    },
    {
      "cell_type": "code",
      "source": [
        "colunas_retirar = ['MF','TP_PRESENCA_CN', 'TP_PRESENCA_CH',\n",
        "       'TP_PRESENCA_LC', 'TP_PRESENCA_MT', 'CO_PROVA_CN', 'CO_PROVA_CH',\n",
        "       'CO_PROVA_LC', 'CO_PROVA_MT', 'NU_NOTA_CN', 'NU_NOTA_CH', 'NU_NOTA_LC',\n",
        "       'NU_NOTA_MT', 'TX_RESPOSTAS_CN', 'TX_RESPOSTAS_CH', 'TX_RESPOSTAS_LC',\n",
        "       'TX_RESPOSTAS_MT', 'TX_GABARITO_CN', 'TX_GABARITO_CH',\n",
        "       'TX_GABARITO_LC', 'TX_GABARITO_MT',\n",
        "       'NU_NOTA_COMP1', 'NU_NOTA_COMP2', 'NU_NOTA_COMP3', 'NU_NOTA_COMP4',\n",
        "       'NU_NOTA_COMP5', 'NU_NOTA_REDACAO', 'ID', 'CONCEITO', 'DESEMPENHO']"
      ],
      "metadata": {
        "id": "F_HWpCyLQdVL"
      },
      "execution_count": null,
      "outputs": []
    },
    {
      "cell_type": "code",
      "source": [
        "def Transformar_int(feature):\n",
        "    df_train[feature] = df_train[feature].astype(int)"
      ],
      "metadata": {
        "id": "tUzj2Vjbx-fo"
      },
      "execution_count": null,
      "outputs": []
    },
    {
      "cell_type": "code",
      "source": [
        "df_train['Q006']= df_train['Q006'].replace({\"A\": \"0\", \"B\":\"1100\",\"C\":\"1350\",\"D\":\"2000\",\"E\":\"2550\",\"F\":\"3100\",\n",
        "                          \"G\":\"3850\",\"H\":\"4950\",\"I\":\"5950\",\"J\":\"7150\",\"K\":\"8250\",\"L\":\"9350\",\n",
        "                          \"M\":\"10450\",\"N\":\"12100\",\"O\":\"14800\",\"P\":\"18750\",\"Q\":\"22000\"}, inplace = False)\n",
        "df_train['Q009']= df_train['Q009'].replace({\"A\": \"0\", \"B\":\"1\",\"C\":\"2\",\"D\":\"3\",\"E\":\"4\"}, inplace = False)\n",
        "df_train['Q024']= df_train['Q024'].replace({\"A\": \"0\", \"B\":\"1\",\"C\":\"2\",\"D\":\"3\",\"E\":\"4\"}, inplace = False)\n",
        "df_train['Q022']= df_train['Q022'].replace({\"A\": \"0\", \"B\":\"1\",\"C\":\"2\",\"D\":\"3\",\"E\":\"4\"}, inplace = False)\n",
        "\n",
        "Transformar_int('Q005')\n",
        "Transformar_int('Q006')\n",
        "Transformar_int('Q009')\n",
        "Transformar_int('Q022')\n",
        "Transformar_int('Q024')\n",
        "df_train['Renda per capita'] = round(df_train['Q006']/df_train['Q005'])\n",
        "#df_train['Pessoas por quarto']= round(df_train['Q005']/df_train['Q009'])\n",
        "df_train['Computadores por pessoa']= round(df_train['Q024']/df_train['Q005'])\n",
        "df_train['Celulares por pessoa']= round(df_train['Q022']/ df_train['Q005'])"
      ],
      "metadata": {
        "id": "DBAFIFm1x4Tw"
      },
      "execution_count": null,
      "outputs": []
    },
    {
      "cell_type": "code",
      "source": [
        "df_test['Q006']= df_test['Q006'].replace({\"A\": \"0\", \"B\":\"1100\",\"C\":\"1350\",\"D\":\"2000\",\"E\":\"2550\",\"F\":\"3100\",\n",
        "                          \"G\":\"3850\",\"H\":\"4950\",\"I\":\"5950\",\"J\":\"7150\",\"K\":\"8250\",\"L\":\"9350\",\n",
        "                          \"M\":\"10450\",\"N\":\"12100\",\"O\":\"14800\",\"P\":\"18750\",\"Q\":\"22000\"}, inplace = False)\n",
        "df_test['Q009']= df_test['Q009'].replace({\"A\": \"0\", \"B\":\"1\",\"C\":\"2\",\"D\":\"3\",\"E\":\"4\"}, inplace = False)\n",
        "df_test['Q024']= df_test['Q024'].replace({\"A\": \"0\", \"B\":\"1\",\"C\":\"2\",\"D\":\"3\",\"E\":\"4\"}, inplace = False)\n",
        "df_test['Q022']= df_test['Q022'].replace({\"A\": \"0\", \"B\":\"1\",\"C\":\"2\",\"D\":\"3\",\"E\":\"4\"}, inplace = False)\n",
        "def Transformar_int_test(feature):\n",
        "    df_test[feature] = df_test[feature].astype(int)\n",
        "Transformar_int_test('Q005')\n",
        "Transformar_int_test('Q006')\n",
        "Transformar_int_test('Q009')\n",
        "Transformar_int_test('Q022')\n",
        "Transformar_int_test('Q024')\n",
        "df_test['Renda per capita'] = round(df_test['Q006']/df_test['Q005'])\n",
        "#df_test['Pessoas por quarto']= round(df_test['Q005']/df_test['Q009'])\n",
        "df_test['Computadores por pessoa']= round(df_test['Q024']/df_test['Q005'])\n",
        "df_test['Celulares por pessoa']= round(df_test['Q022']/ df_test['Q005'])"
      ],
      "metadata": {
        "id": "JwKIy9YF-jAD"
      },
      "execution_count": null,
      "outputs": []
    },
    {
      "cell_type": "code",
      "source": [],
      "metadata": {
        "id": "8LA8Zyf7Dg0J"
      },
      "execution_count": null,
      "outputs": []
    },
    {
      "cell_type": "code",
      "source": [
        "features = df_train.drop(colunas_retirar, axis=1)\n",
        "features = autoclean(features)"
      ],
      "metadata": {
        "id": "7U5SMjQKP1Hp"
      },
      "execution_count": null,
      "outputs": []
    },
    {
      "cell_type": "code",
      "source": [
        "target = df_train['DESEMPENHO']\n",
        "#target = le.fit_transform(target)"
      ],
      "metadata": {
        "id": "HjJDL6Y1R43s"
      },
      "execution_count": null,
      "outputs": []
    },
    {
      "cell_type": "markdown",
      "source": [
        "adicionando o conceito no test\n"
      ],
      "metadata": {
        "id": "GSeDplmmZhOg"
      }
    },
    {
      "cell_type": "code",
      "source": [
        "lista = []\n",
        "\n",
        "for i in df_test['MF']:\n",
        "  if i <= 500.0:\n",
        "    lista.append('E')\n",
        "  if (i > 500) and (i<=600):\n",
        "    lista.append('D')\n",
        "\n",
        "  if (i > 600) and (i<= 700):\n",
        "    lista.append('C')\n",
        "  if (i > 700) and (i<= 800):\n",
        "    lista.append('B')\n",
        "  if i > 800:\n",
        "    lista.append('A')\n",
        "\n",
        "\n",
        "df_test['CONCEITO'] = lista    "
      ],
      "metadata": {
        "id": "wz2DNpBWZjRh"
      },
      "execution_count": null,
      "outputs": []
    },
    {
      "cell_type": "markdown",
      "source": [
        "dividindo o teste"
      ],
      "metadata": {
        "id": "bj4p-VM4W-tD"
      }
    },
    {
      "cell_type": "code",
      "source": [
        "x_test = df_test.drop(colunas_retirar, axis=1)\n",
        "x_test = autoclean(x_test)\n",
        "y_test = df_test['DESEMPENHO']"
      ],
      "metadata": {
        "id": "eCVahSuiXAOd"
      },
      "execution_count": null,
      "outputs": []
    },
    {
      "cell_type": "code",
      "source": [
        "#label enconder\n",
        "le = preprocessing.LabelEncoder()\n",
        "\n",
        "x_test = autoclean(x_test)\n",
        "y_test = le.fit_transform(df_test['DESEMPENHO'])\n",
        "x_train = features\n",
        "y_train = le.fit_transform(target)"
      ],
      "metadata": {
        "id": "jTt6FWGsl2mJ"
      },
      "execution_count": null,
      "outputs": []
    },
    {
      "cell_type": "markdown",
      "source": [
        "### Standard scaler"
      ],
      "metadata": {
        "id": "5x_vVcaP0VaE"
      }
    },
    {
      "cell_type": "code",
      "source": [
        "#colocando os dados em escala\n",
        "scaler = StandardScaler()\n",
        "\n",
        "scaler.fit(x_train)\n",
        "X2=scaler.transform(x_train)"
      ],
      "metadata": {
        "id": "biPAncDx2EUL"
      },
      "execution_count": null,
      "outputs": []
    },
    {
      "cell_type": "code",
      "source": [
        "#X3 = scaler.fit_transform(x_test)\n",
        "scaler.fit(x_test)\n",
        "X3=scaler.transform(x_test)"
      ],
      "metadata": {
        "id": "3sNPwZF33CNS"
      },
      "execution_count": null,
      "outputs": []
    },
    {
      "cell_type": "markdown",
      "source": [
        "####Minmax"
      ],
      "metadata": {
        "id": "ikCLkFFO6vM4"
      }
    },
    {
      "cell_type": "code",
      "source": [],
      "metadata": {
        "id": "N_WtvXC-7Oqh"
      },
      "execution_count": null,
      "outputs": []
    },
    {
      "cell_type": "code",
      "source": [
        "from sklearn.preprocessing import MinMaxScaler\n",
        "MinMaxScaler = MinMaxScaler()\n",
        "X_1= MinMaxScaler.fit_transform(x_train)\n",
        "X_2= MinMaxScaler.fit_transform(x_test)"
      ],
      "metadata": {
        "id": "amerLGPn6pjZ"
      },
      "execution_count": null,
      "outputs": []
    },
    {
      "cell_type": "markdown",
      "source": [
        "### Treinando o modelo"
      ],
      "metadata": {
        "id": "7Tc2Np1iTWjL"
      }
    },
    {
      "cell_type": "code",
      "source": [
        "from sklearn.tree import DecisionTreeClassifier\n",
        "from sklearn.ensemble import RandomForestClassifier\n",
        "from sklearn.model_selection import train_test_split\n",
        "from sklearn.metrics import accuracy_score\n",
        "from sklearn.ensemble import GradientBoostingClassifier\n",
        "from sklearn.metrics import precision_score\n",
        "from sklearn.metrics import recall_score\n",
        "from sklearn.metrics import classification_report\n",
        "# split the data into training and testing sets\n",
        "#X_train, X_test, y_train, y_test = train_test_split(iris.data, iris.target, test_size=0.3, random_state=8)\n",
        "\n",
        "# create a decision tree classifier object\n",
        "#\n",
        "#clf = DecisionTreeClassifier()\n",
        "#clf = RandomForestClassifier(max_depth=2, random_state=0)\n",
        "#\n",
        "clf = GradientBoostingClassifier(n_estimators=100, learning_rate=1.0,max_depth=1, random_state=0)\n",
        "# train the model using the training sets\n",
        "clf.fit(x_train, y_train)\n",
        "\n",
        "# make predictions on the testing set\n",
        "y_pred = clf.predict(x_test)\n",
        "\n",
        "# calculate the accuracy of the model\n",
        "accuracy = accuracy_score(y_test, y_pred)\n",
        "\n",
        "# print the accuracy of the model\n",
        "\n",
        "#In this example, we are using the Iris dataset from scikit-learn library, splitting the data into training and testing sets, creating a DecisionTreeClassifier object, and training the model using the training data. Then, we are making predictions on the testing data and calculating the accuracy of the model. Finally, we are printing the accuracy of the model. You can replace the iris dataset with your own dataset to train a decision tree model.\n",
        "\n",
        "print(classification_report(y_test, y_pred))"
      ],
      "metadata": {
        "id": "NwG2YX2nWXK1"
      },
      "execution_count": null,
      "outputs": []
    },
    {
      "cell_type": "code",
      "source": [
        "precision = precision_score(y_test , y_pred, average = \"macro\")\n",
        "recall = recall_score(y_test , y_pred, average = \"macro\")\n",
        "print(f\"Accuracy:{accuracy}, precision: {precision}, Recall: {recall} \")"
      ],
      "metadata": {
        "id": "MZREiFI2ArXr"
      },
      "execution_count": null,
      "outputs": []
    },
    {
      "cell_type": "markdown",
      "source": [
        "0.5486037667919264\n"
      ],
      "metadata": {
        "id": "ggOydCM3O7Nb"
      }
    },
    {
      "cell_type": "code",
      "source": [
        "from sklearn.metrics import confusion_matrix, ConfusionMatrixDisplay\n",
        "cm = confusion_matrix(y_test, y_pred, labels=clf.classes_)\n",
        "disp = ConfusionMatrixDisplay(confusion_matrix=cm,\n",
        "                             display_labels=clf.classes_)\n",
        "disp.plot(values_format='')"
      ],
      "metadata": {
        "id": "wagphO6AAYNY"
      },
      "execution_count": null,
      "outputs": []
    },
    {
      "cell_type": "code",
      "source": [
        "testemodel = y_test.copy()\n",
        "teste_modelo= pd.DataFrame(testemodel, columns= ['Real'])\n",
        "#teste_modelo.drop(columns=['Class'], inplace=True)\n",
        "teste_modelo['Previsão'] = y_pred\n",
        "teste_modelo.head(50)"
      ],
      "metadata": {
        "id": "j2mHkJq47_65"
      },
      "execution_count": null,
      "outputs": []
    },
    {
      "cell_type": "markdown",
      "source": [
        "STD = 0.5014063589928219"
      ],
      "metadata": {
        "id": "tElvayiA6nG5"
      }
    },
    {
      "cell_type": "code",
      "source": [
        "d = {i:j for i,j in zip(features.columns, clf.feature_importances_)}\n",
        "sorted(d.items(), key=lambda item: item[1], reverse=True)"
      ],
      "metadata": {
        "id": "T2oHwQERZeVX"
      },
      "execution_count": null,
      "outputs": []
    },
    {
      "cell_type": "markdown",
      "source": [
        "### Feature selection"
      ],
      "metadata": {
        "id": "WQevnNkFT8yW"
      }
    },
    {
      "cell_type": "code",
      "source": [
        "y_train"
      ],
      "metadata": {
        "id": "o-Ip1QxPyT9k"
      },
      "execution_count": null,
      "outputs": []
    },
    {
      "cell_type": "code",
      "source": [
        "from sklearn.feature_selection import RFE\n",
        "from sklearn.linear_model import LogisticRegression\n",
        "selecao_atributos = {}\n",
        "rfe_selector = RFE(estimator=LogisticRegression(), n_features_to_select=20, step=5, verbose=5)\n",
        "rfe_selector.fit(features, y_train)\n",
        "rfe_support = rfe_selector.get_support()\n",
        "rfe_feature_1 = x_train.loc[:,rfe_support].columns.tolist()"
      ],
      "metadata": {
        "id": "xES3A_TDnhOE"
      },
      "execution_count": null,
      "outputs": []
    },
    {
      "cell_type": "code",
      "source": [
        "selecao_atributos['RFE'] = rfe_feature_1"
      ],
      "metadata": {
        "id": "S6Sm5FpToG0k"
      },
      "execution_count": null,
      "outputs": []
    },
    {
      "cell_type": "code",
      "source": [
        "selecao_atributos['RFE']"
      ],
      "metadata": {
        "id": "OrVrVOLdkz20"
      },
      "execution_count": null,
      "outputs": []
    },
    {
      "cell_type": "code",
      "source": [
        "x_train = x_train[selecao_atributos['RFE']]\n",
        "x_train"
      ],
      "metadata": {
        "id": "-Rc4Pkurs1qO"
      },
      "execution_count": null,
      "outputs": []
    },
    {
      "cell_type": "code",
      "source": [
        "x_test = x_test[selecao_atributos['RFE']]"
      ],
      "metadata": {
        "id": "9F1zmEWVwBwV"
      },
      "execution_count": null,
      "outputs": []
    },
    {
      "cell_type": "markdown",
      "source": [
        "### PCA"
      ],
      "metadata": {
        "id": "0V3Tpk38xZPM"
      }
    },
    {
      "cell_type": "code",
      "source": [
        "from sklearn.decomposition import PCA\n",
        "pca = PCA(n_components=2)\n",
        "fit = pca.fit(features)\n",
        "\n",
        "x_train = fit.transform(features)"
      ],
      "metadata": {
        "id": "3iwL0NgTwY_1"
      },
      "execution_count": null,
      "outputs": []
    },
    {
      "cell_type": "code",
      "source": [
        "#pca no teste\n",
        "\n",
        "fit = pca.fit(x_test)\n",
        "x_test = fit.transform(x_test)"
      ],
      "metadata": {
        "id": "Vcrxtzrow6K9"
      },
      "execution_count": null,
      "outputs": []
    },
    {
      "cell_type": "code",
      "source": [
        "x_train"
      ],
      "metadata": {
        "id": "Az7w1qGhwrfF"
      },
      "execution_count": null,
      "outputs": []
    },
    {
      "cell_type": "markdown",
      "source": [
        "### mlp\n"
      ],
      "metadata": {
        "id": "P-1fyZOSPF1q"
      }
    },
    {
      "cell_type": "code",
      "source": [
        "from sklearn.neural_network import MLPClassifier\n",
        "mlp = MLPClassifier(hidden_layer_sizes=(4,3) ,max_iter=500, activation='tanh')\n",
        "mlp.fit(x_train, y_train)"
      ],
      "metadata": {
        "id": "oQ2YTl3lPHMJ"
      },
      "execution_count": null,
      "outputs": []
    },
    {
      "cell_type": "code",
      "source": [
        "#testando\n",
        "pred = mlp.predict(x_test)"
      ],
      "metadata": {
        "id": "_w4YqOlzPj9D"
      },
      "execution_count": null,
      "outputs": []
    },
    {
      "cell_type": "code",
      "source": [
        "from sklearn.metrics import classification_report\n",
        "print(classification_report(y_test,pred))"
      ],
      "metadata": {
        "id": "r2yyURN9QYhS"
      },
      "execution_count": null,
      "outputs": []
    },
    {
      "cell_type": "markdown",
      "source": [
        "### testes"
      ],
      "metadata": {
        "id": "apSWSXkAlexz"
      }
    },
    {
      "cell_type": "code",
      "source": [
        "x_train"
      ],
      "metadata": {
        "id": "53O2AsZPdXVP"
      },
      "execution_count": null,
      "outputs": []
    },
    {
      "cell_type": "code",
      "source": [
        "variaveis_manter = ['TP_COR_RACA', 'Q001', 'Q002', 'Q003', 'TP_SEXO', 'TP_ST_CONCLUSAO', 'CO_UF_ESC', 'TP_LINGUA', 'Q006', 'TP_ESCOLA']"
      ],
      "metadata": {
        "id": "CHjEpYhFe1kO"
      },
      "execution_count": null,
      "outputs": []
    },
    {
      "cell_type": "code",
      "source": [
        "df = df_train[df_train['TP_COR_RACA', 'Q001', 'Q002', 'Q003', 'TP_SEXO', 'TP_ST_CONCLUSAO', 'CO_UF_ESC', 'TP_LINGUA', 'Q006', 'TP_ESCOLA']]"
      ],
      "metadata": {
        "id": "wO6Wkuv2i74c"
      },
      "execution_count": null,
      "outputs": []
    },
    {
      "cell_type": "code",
      "source": [],
      "metadata": {
        "id": "vw34sMS4S_m9"
      },
      "execution_count": null,
      "outputs": []
    },
    {
      "cell_type": "code",
      "source": [
        "df_train['MF'].mean()"
      ],
      "metadata": {
        "id": "MI3PHD1gV1dr"
      },
      "execution_count": null,
      "outputs": []
    },
    {
      "cell_type": "code",
      "source": [
        "lista = []\n",
        "for i in df_train['MF']:\n",
        "  if i < 540:\n",
        "    lista.append(0)#'Baixo Desempenho'\n",
        "  if i >=540:\n",
        "    lista.append(1)#'Desempenho Razoavel'"
      ],
      "metadata": {
        "id": "nvOuJomZTHG9"
      },
      "execution_count": null,
      "outputs": []
    },
    {
      "cell_type": "code",
      "source": [
        "df_train['DESEMPENHO'] = lista"
      ],
      "metadata": {
        "id": "HJm-PmidT0Ne"
      },
      "execution_count": null,
      "outputs": []
    },
    {
      "cell_type": "code",
      "source": [
        "lista = []\n",
        "for i in df_test['MF']:\n",
        "  if i < 540:\n",
        "    lista.append(0)#'Baixo Desempenho'\n",
        "  if i >=540:\n",
        "    lista.append(1)#'Desempenho Razoavel'"
      ],
      "metadata": {
        "id": "d-YCELbiUhI0"
      },
      "execution_count": null,
      "outputs": []
    },
    {
      "cell_type": "code",
      "source": [
        "df_test['DESEMPENHO'] = lista"
      ],
      "metadata": {
        "id": "06YKOgOPUkS0"
      },
      "execution_count": null,
      "outputs": []
    },
    {
      "cell_type": "code",
      "source": [
        "df_train"
      ],
      "metadata": {
        "id": "d8-TInFDT5KM"
      },
      "execution_count": null,
      "outputs": []
    },
    {
      "cell_type": "markdown",
      "source": [],
      "metadata": {
        "id": "BdRfGHnjh7gE"
      }
    }
  ]
}